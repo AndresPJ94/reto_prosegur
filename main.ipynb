{
 "cells": [
  {
   "cell_type": "code",
   "execution_count": 1,
   "metadata": {},
   "outputs": [],
   "source": [
    "import pandas as pd"
   ]
  },
  {
   "cell_type": "markdown",
   "metadata": {},
   "source": [
    "<span style=\"color:grey\"> Leemos las distintas hojas y creamos los distintos DataFrames.\n"
   ]
  },
  {
   "cell_type": "code",
   "execution_count": 2,
   "metadata": {},
   "outputs": [],
   "source": [
    "#Leemos la hoja de los países y renombramos las columnas\n",
    "df_argentina = pd.read_excel('Prueba_Data_Engineer.xlsx', sheet_name='Argentina')\n",
    "df_argentina.rename(columns={'Identificador': 'Identificador', 'Ventas': 'Ventas', 'Divisas': 'Divisas_Ventas'}, inplace=True)\n",
    "df_espana = pd.read_excel('Prueba_Data_Engineer.xlsx', sheet_name='España')\n",
    "df_espana.rename(columns={'Identificador': 'Identificador', 'VTA': 'Ventas', 'Divisas': 'Divisas_Ventas'}, inplace=True)\n",
    "df_mexico = pd.read_excel('Prueba_Data_Engineer.xlsx', sheet_name='Mexico')\n",
    "df_mexico.rename(columns={'Identificador': 'Identificador', 'Ventas': 'Ventas', 'Divisas': 'Divisas_Ventas'}, inplace=True)\n",
    "\n",
    "#Ahora leemos la hoja central y creamos la columna Identificador como combinación de las columnas país, id_empleado e id_departamento para poder realizar los joins correctamente.\n",
    "df_central = pd.read_excel('Prueba_Data_Engineer.xlsx', sheet_name='Fichero_central')\n",
    "df_central['Identificador'] = df_central['Pais'].astype(str) + '0000' + df_central['Id departamento'].astype(str) + '0' + df_central['ID Empleado'].astype(str)\n"
   ]
  },
  {
   "cell_type": "markdown",
   "metadata": {},
   "source": [
    "<span style=\"color:grey\"> Ahora mergeamos todos los DataFrames y creamos nuestra hoja principal según los requisitos descritos.\n"
   ]
  },
  {
   "cell_type": "code",
   "execution_count": 3,
   "metadata": {},
   "outputs": [],
   "source": [
    "# Unimos todos los df y creamos nuestro df principal\n",
    "df_final = pd.merge(df_central, df_espana, on='Identificador', how='left')\n",
    "df_final = pd.merge(df_final, df_argentina, on='Identificador', how='left')\n",
    "df_final = pd.merge(df_final, df_mexico, on='Identificador', how='left')\n",
    "\n",
    "#Mergeamos ventas\n",
    "df_final['Ventas'] = df_final['Ventas'].fillna(df_final['Ventas_x']).fillna(df_final['Ventas_y'])\n",
    "df_final = df_final.drop(['Ventas_x', 'Ventas_y'], axis=1)\n",
    "\n",
    "#Mergeamos divisas\n",
    "df_final['Divisas_Ventas'] = df_final['Divisas_Ventas'].fillna(df_final['Divisas_Ventas_x']).fillna(df_final['Divisas_Ventas_y'])\n",
    "df_final = df_final.drop(['Divisas_Ventas_x', 'Divisas_Ventas_y'], axis=1)\n",
    "\n",
    "#Tipos de cambio:\n",
    "tipo_cambio = {\n",
    "    'Pesos Mexicanos': 0.055,\n",
    "    'Dolares': 0.93,  # Corregido 'Dolar' a 'Dolares'\n",
    "    'Pesos Argentinos': 0.0013}\n",
    "\n",
    "# Función para aplicar el tipo de cambio según la divisa\n",
    "def convertir_a_euro(row, valor, divisa):\n",
    "    if divisa == 'Euros':\n",
    "        return valor\n",
    "    elif divisa in tipo_cambio:\n",
    "        tipo_cambio_divisa = tipo_cambio[divisa]\n",
    "        return valor * tipo_cambio_divisa\n",
    "    else:\n",
    "        return None  # Devolver None si la divisa no está en el tipo de cambio\n",
    "\n",
    "# Función para aplicar el tipo de cambio a las columnas Ventas y Divisas_Ventas\n",
    "def aplicar_tipo_cambio_ventas(row):\n",
    "    return convertir_a_euro(row, row['Ventas'], row['Divisas_Ventas'])\n",
    "\n",
    "# Función para aplicar el tipo de cambio a las columnas Coste y Divisas\n",
    "def aplicar_tipo_cambio_coste(row):\n",
    "    return convertir_a_euro(row, row['Coste'], row['Divisas'])\n",
    "\n",
    "# Creamos la nueva columna 'Ventas_euros' aplicando el tipo de cambio\n",
    "df_final['Ventas_euros'] = df_final.apply(aplicar_tipo_cambio_ventas, axis=1)\n",
    "\n",
    "# Creamos la nueva columna 'Coste_euros' aplicando el tipo de cambio\n",
    "df_final['Coste_euros'] = df_final.apply(aplicar_tipo_cambio_coste, axis=1)\n",
    "\n",
    "#Creamos la columna margen y la columna %margen\n",
    "df_final['Margen'] = (df_final['Ventas_euros'] - df_final['Coste_euros']) / df_final['Ventas_euros']\n",
    "df_final['%Margen'] = (df_final['Ventas_euros'] - df_final['Coste_euros'])*100 / df_final['Ventas_euros']"
   ]
  },
  {
   "cell_type": "markdown",
   "metadata": {},
   "source": [
    "<span style=\"color:grey\"> Ahora calculamos el total de ventas y costes totales en Euros.\n"
   ]
  },
  {
   "cell_type": "code",
   "execution_count": 4,
   "metadata": {},
   "outputs": [
    {
     "name": "stdout",
     "output_type": "stream",
     "text": [
      "El total de ventas en € es 17511833.708\n",
      "El coste total en € es 882766.6199999999\n"
     ]
    }
   ],
   "source": [
    "#TOTAL VENTAS Y COSTES:\n",
    "total_ventas = df_final['Ventas_euros'].sum()\n",
    "total_coste = df_final['Coste_euros'].sum()\n",
    "\n",
    "print(\"El total de ventas en € es \" + str(total_ventas))\n",
    "print(\"El coste total en € es \" + str(total_coste))"
   ]
  },
  {
   "cell_type": "markdown",
   "metadata": {
    "vscode": {
     "languageId": "html"
    }
   },
   "source": [
    "<span style=\"color:grey\"> A continuación calculamos el total de ventas y costes por país, tanto en moneda local como moneda euro. Para ello vamos a transformar todos los valores en dólares de los pesos mexicanos y argentinos."
   ]
  },
  {
   "cell_type": "code",
   "execution_count": 5,
   "metadata": {},
   "outputs": [
    {
     "data": {
      "text/html": [
       "<div>\n",
       "<style scoped>\n",
       "    .dataframe tbody tr th:only-of-type {\n",
       "        vertical-align: middle;\n",
       "    }\n",
       "\n",
       "    .dataframe tbody tr th {\n",
       "        vertical-align: top;\n",
       "    }\n",
       "\n",
       "    .dataframe thead th {\n",
       "        text-align: right;\n",
       "    }\n",
       "</style>\n",
       "<table border=\"1\" class=\"dataframe\">\n",
       "  <thead>\n",
       "    <tr style=\"text-align: right;\">\n",
       "      <th></th>\n",
       "      <th>Pais</th>\n",
       "      <th>Coste</th>\n",
       "      <th>Ventas</th>\n",
       "      <th>Ventas_euros</th>\n",
       "      <th>Coste_euros</th>\n",
       "    </tr>\n",
       "  </thead>\n",
       "  <tbody>\n",
       "    <tr>\n",
       "      <th>0</th>\n",
       "      <td>AR</td>\n",
       "      <td>84865425</td>\n",
       "      <td>9.743159e+09</td>\n",
       "      <td>1.266935e+07</td>\n",
       "      <td>131826.62</td>\n",
       "    </tr>\n",
       "    <tr>\n",
       "      <th>1</th>\n",
       "      <td>ES</td>\n",
       "      <td>510230</td>\n",
       "      <td>5.030946e+05</td>\n",
       "      <td>5.030946e+05</td>\n",
       "      <td>510230.00</td>\n",
       "    </tr>\n",
       "    <tr>\n",
       "      <th>2</th>\n",
       "      <td>MX</td>\n",
       "      <td>1141520</td>\n",
       "      <td>6.888418e+07</td>\n",
       "      <td>4.339390e+06</td>\n",
       "      <td>240710.00</td>\n",
       "    </tr>\n",
       "  </tbody>\n",
       "</table>\n",
       "</div>"
      ],
      "text/plain": [
       "  Pais     Coste        Ventas  Ventas_euros  Coste_euros\n",
       "0   AR  84865425  9.743159e+09  1.266935e+07    131826.62\n",
       "1   ES    510230  5.030946e+05  5.030946e+05    510230.00\n",
       "2   MX   1141520  6.888418e+07  4.339390e+06    240710.00"
      ]
     },
     "execution_count": 5,
     "metadata": {},
     "output_type": "execute_result"
    }
   ],
   "source": [
    "tipo_cambio_pais = {\n",
    "    'MX': 0.06,\n",
    "    'AR': 0.0011, \n",
    "    'ES': 1.0753   \n",
    "}\n",
    "def convertir_divisas(df, tipo_cambio_pais):\n",
    "    for index, row in df.iterrows():\n",
    "        pais = row['Pais']\n",
    "        divisa = row['Divisas']\n",
    "        if divisa == 'Dolares':\n",
    "            tipo_cambio = tipo_cambio_pais.get(pais)\n",
    "            if tipo_cambio:\n",
    "                df.at[index, 'Coste'] *= tipo_cambio\n",
    "                df.at[index, 'Ventas'] *= tipo_cambio\n",
    "                if pais == 'AR':\n",
    "                    df.at[index, 'Divisas'] = 'Pesos Argentinos'\n",
    "                    df.at[index, 'Divisas_Ventas'] = 'Pesos Argentinos'\n",
    "                elif pais == 'MX':\n",
    "                    df.at[index, 'Divisas'] = 'Pesos Mexicanos'\n",
    "                    df.at[index, 'Divisas_Ventas'] = 'Pesos Mexicanos'\n",
    "        elif divisa == 'Divisa local':\n",
    "            if pais == 'AR':\n",
    "                df.at[index, 'Divisas'] = 'Pesos Argentinos'\n",
    "                df.at[index, 'Divisas_Ventas'] = 'Pesos Argentinos'\n",
    "            elif pais == 'MX':\n",
    "                df.at[index, 'Divisas'] = 'Pesos Mexicanos'\n",
    "                df.at[index, 'Divisas_Ventas'] = 'Pesos Mexicanos'\n",
    "    return df\n",
    "\n",
    "df_ajustado = convertir_divisas(df_final, tipo_cambio_pais)\n",
    "df_ventas_costes_dos_divisas = df_ajustado.groupby('Pais').agg({\n",
    "    'Coste': 'sum',\n",
    "    'Ventas': 'sum',\n",
    "    'Ventas_euros': 'sum',\n",
    "    'Coste_euros': 'sum'\n",
    "}).reset_index()\n",
    "\n",
    "# Renombrando las columnas\n",
    "df_ventas_costes_dos_divisas.columns = ['Pais', 'Coste', 'Ventas', 'Ventas_euros', 'Coste_euros']\n",
    "df_ventas_costes_dos_divisas"
   ]
  },
  {
   "cell_type": "markdown",
   "metadata": {},
   "source": [
    "<span style=\"color:grey\"> Por último, calculamos el total de ventas y coste por departamento descriptivo, en moneda del país de origen y en moneda euro. Para ello vamos a renombrar todos los valores de Recursos Humanos y R.R.H.H a RRHH y con Equipo comercial y Comerciales renombrarlos a Comercial."
   ]
  },
  {
   "cell_type": "code",
   "execution_count": 6,
   "metadata": {},
   "outputs": [
    {
     "data": {
      "text/html": [
       "<div>\n",
       "<style scoped>\n",
       "    .dataframe tbody tr th:only-of-type {\n",
       "        vertical-align: middle;\n",
       "    }\n",
       "\n",
       "    .dataframe tbody tr th {\n",
       "        vertical-align: top;\n",
       "    }\n",
       "\n",
       "    .dataframe thead th {\n",
       "        text-align: right;\n",
       "    }\n",
       "</style>\n",
       "<table border=\"1\" class=\"dataframe\">\n",
       "  <thead>\n",
       "    <tr style=\"text-align: right;\">\n",
       "      <th></th>\n",
       "      <th>Nombre departamento</th>\n",
       "      <th>Coste</th>\n",
       "      <th>Ventas</th>\n",
       "      <th>Ventas_euros</th>\n",
       "      <th>Coste_euros</th>\n",
       "    </tr>\n",
       "  </thead>\n",
       "  <tbody>\n",
       "    <tr>\n",
       "      <th>0</th>\n",
       "      <td>Comercial</td>\n",
       "      <td>53851025</td>\n",
       "      <td>6.163690e+09</td>\n",
       "      <td>8826817.908</td>\n",
       "      <td>474866.32</td>\n",
       "    </tr>\n",
       "    <tr>\n",
       "      <th>1</th>\n",
       "      <td>Facturación</td>\n",
       "      <td>60000</td>\n",
       "      <td>0.000000e+00</td>\n",
       "      <td>0.000</td>\n",
       "      <td>60000.00</td>\n",
       "    </tr>\n",
       "    <tr>\n",
       "      <th>2</th>\n",
       "      <td>RRHH</td>\n",
       "      <td>32606150</td>\n",
       "      <td>3.648856e+09</td>\n",
       "      <td>8685015.800</td>\n",
       "      <td>347900.30</td>\n",
       "    </tr>\n",
       "  </tbody>\n",
       "</table>\n",
       "</div>"
      ],
      "text/plain": [
       "  Nombre departamento     Coste        Ventas  Ventas_euros  Coste_euros\n",
       "0           Comercial  53851025  6.163690e+09   8826817.908    474866.32\n",
       "1         Facturación     60000  0.000000e+00         0.000     60000.00\n",
       "2                RRHH  32606150  3.648856e+09   8685015.800    347900.30"
      ]
     },
     "execution_count": 6,
     "metadata": {},
     "output_type": "execute_result"
    }
   ],
   "source": [
    "df_ajustado['Nombre departamento'] = df_ajustado['Nombre departamento'].replace({\n",
    "    'Recursos Humanos': 'RRHH',\n",
    "    'R.R.H.H': 'RRHH',\n",
    "    'Equipo comercial': 'Comercial',\n",
    "    'Comerciales': 'Comercial'\n",
    "})\n",
    "df_ventas_costes_dos_divisas = df_ajustado.groupby('Nombre departamento').agg({\n",
    "    'Coste': 'sum',\n",
    "    'Ventas': 'sum',\n",
    "    'Ventas_euros': 'sum',\n",
    "    'Coste_euros': 'sum'\n",
    "}).reset_index()\n",
    "\n",
    "# Renombrando las columnas\n",
    "df_ventas_costes_dos_divisas.columns = ['Nombre departamento', 'Coste', 'Ventas', 'Ventas_euros', 'Coste_euros']\n",
    "df_ventas_costes_dos_divisas"
   ]
  }
 ],
 "metadata": {
  "kernelspec": {
   "display_name": "Python 3",
   "language": "python",
   "name": "python3"
  },
  "language_info": {
   "codemirror_mode": {
    "name": "ipython",
    "version": 3
   },
   "file_extension": ".py",
   "mimetype": "text/x-python",
   "name": "python",
   "nbconvert_exporter": "python",
   "pygments_lexer": "ipython3",
   "version": "3.7.4"
  }
 },
 "nbformat": 4,
 "nbformat_minor": 2
}
